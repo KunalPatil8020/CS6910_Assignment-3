{
  "nbformat": 4,
  "nbformat_minor": 0,
  "metadata": {
    "colab": {
      "name": "vanilla_seq2seq.ipynb",
      "provenance": [],
      "collapsed_sections": []
    },
    "kernelspec": {
      "name": "python3",
      "display_name": "Python 3"
    },
    "language_info": {
      "name": "python"
    },
    "accelerator": "GPU"
  },
  "cells": [
    {
      "cell_type": "markdown",
      "source": [
        "# Import Libraries"
      ],
      "metadata": {
        "id": "4Q9dn53F_BNp"
      }
    },
    {
      "cell_type": "code",
      "source": [
        "import numpy as np\n",
        "import tensorflow as tf\n",
        "import pandas as pd\n",
        "import matplotlib.pyplot as plt\n",
        "from tensorflow import keras\n",
        "!pip install wandb\n",
        "import wandb\n",
        "from keras.layers import SimpleRNN, LSTM, GRU, Dense, Dropout, TimeDistributed, Lambda, Activation, Reshape,\n",
        "Softmax, Multiply, AdditiveAttention, Concatenate, Add, RepeatVector\n",
        "import tarfile\n",
        "import random\n",
        "from keras.optimizers import RMSprop, Adam, SGD\n",
        "import os\n",
        "from tensorflow.python.keras.layers import Layer\n",
        "from tensorflow.python.keras import backend as K\n",
        "\n",
        "from math import log\n",
        "from numpy import array, argmax\n",
        "import sklearn"
      ],
      "metadata": {
        "id": "hJumLxdq_HHe"
      },
      "execution_count": null,
      "outputs": []
    },
    {
      "cell_type": "markdown",
      "source": [
        "# WANDB Login"
      ],
      "metadata": {
        "id": "6IT-PWMYIvej"
      }
    },
    {
      "cell_type": "code",
      "source": [
        "!wandb login\n",
        "from wandb.keras import WandbCallback\n",
        "wandb.init(project=\"Assignment-3\", entity=\"kunal_patil\")"
      ],
      "metadata": {
        "id": "5v-zYm21BhIk"
      },
      "execution_count": null,
      "outputs": []
    },
    {
      "cell_type": "markdown",
      "source": [
        "# Load the data"
      ],
      "metadata": {
        "id": "FBuDUoPC_UOs"
      }
    },
    {
      "cell_type": "code",
      "source": [
        "from google.colab import drive\n",
        "drive.mount('/content/drive')\n",
        "!gdown https://drive.google.com/file/d/1NDNWaV_4H-BrDn_2cxll2RvTvsW5prqM/view?usp=sharing\n",
        "!unzip \"/content/hi.zip\""
      ],
      "metadata": {
        "id": "ljaixDvj-yey"
      },
      "execution_count": null,
      "outputs": []
    },
    {
      "cell_type": "markdown",
      "source": [
        "# Data processing"
      ],
      "metadata": {
        "id": "U4roXjEpRoli"
      }
    },
    {
      "cell_type": "code",
      "source": [
        "def extract_data(data):\n",
        "    input = []\n",
        "    input_char = []\n",
        "    target = []\n",
        "    target_char = []\n",
        "\n",
        "    for i in data:\n",
        "        input.append(i)\n",
        "        a=data[i]\n",
        "        b=list(i)\n",
        "        target.append(a)\n",
        "        input_char = list(set(input_char + b))\n",
        "        target_char = list(set(target_char + b(a)))\n",
        "\n",
        "    num_input = len(input_char)\n",
        "    num_target = len(target_char)\n",
        "\n",
        "    input_char_map=[]\n",
        "    for i, char in enumerate(input_char):\n",
        "      a=(char,i+1)\n",
        "      input_char_map.append(a)\n",
        "    input_char_map=dict(input_char_map)\n",
        "\n",
        "    target_char_map=[]\n",
        "    for j, c in enumerate(target_char):\n",
        "      b=(c,j+1)\n",
        "      target_char_map.append(b)\n",
        "    input_char_map=dict(input_char_map)\n",
        "\n",
        "    encoder_seq=[]\n",
        "    for wr in input:\n",
        "      encoder_seq.append(len(wr))\n",
        "\n",
        "    decoder_seq=[]\n",
        "    for wr in target:\n",
        "      decoder_seq.append(len(wr))\n",
        "\n",
        "    enco_len= max(encoder_seq)\n",
        "    deco_len= max(decoder_seq)\n",
        "\n",
        "    return input_char, target_char, num_input, num_target, enco_len, deco_len, input_char_map, target_char_map"
      ],
      "metadata": {
        "id": "5kJPmK4DK4Te"
      },
      "execution_count": null,
      "outputs": []
    },
    {
      "cell_type": "code",
      "source": [
        "def one_hot(data, enco_len, deco_len, num_input, num_target):\n",
        "    L = len(data.keys())\n",
        "    target = [\"\\t\"+data[i]+\"\\n\" for i in data]\n",
        "    input = [j for j in data]\n",
        "\n",
        "    enco_in_arr = np.zeros((L, enco_len, num_input + 1))\n",
        "    deco_in_arr = np.zeros((L, deco_len, num_target + 1))\n",
        "    deco_out_arr = deco_in_arr\n",
        "\n",
        "    for i in range(L):\n",
        "        in = input[i]\n",
        "        tar = target[i]\n",
        "\n",
        "        for j, ch in enumerate(in):\n",
        "            enco_in_arr[i, j, input_char_map[ch]] = 1.0\n",
        "\n",
        "    return input, target, enco_in_arr, deco_in_arr, deco_out_arr"
      ],
      "metadata": {
        "id": "h86RiJqFenQv"
      },
      "execution_count": null,
      "outputs": []
    },
    {
      "cell_type": "code",
      "source": [
        "input_char,num_input, input_char_map, num_target, enco_len, deco_len,target_char, target_char_map = extract_data(training_map)\n"
      ],
      "metadata": {
        "colab": {
          "base_uri": "https://localhost:8080/"
        },
        "id": "WMffDLgJLKz4",
        "outputId": "50b8ef94-b421-400a-d632-25b9d6c5273e"
      },
      "execution_count": null,
      "outputs": [
        {
          "output_type": "stream",
          "name": "stdout",
          "text": [
            "Number of unique input characters: 26\n",
            "Number of unique output characters: 64\n",
            "\n",
            "Maximum sequence length for the input: 20\n",
            "Maximum sequence length for the output: 21\n"
          ]
        }
      ]
    },
    {
      "cell_type": "code",
      "source": [
        "pad_deco_in_arr = tensorflow.keras.preprocessing.sequence.pad_sequences(deco_in_arr, maxlen=max_deco_seqlength)\n",
        "pad_deco_out_arr = tensorflow.keras.preprocessing.sequence.pad_sequences(deco_out_arr, maxlen=max_deco_seqlength)\n",
        "pad_enco_in_arr = tensorflow.keras.preprocessing.sequence.pad_sequences(enco_in_arr, maxlen=max_enco_seqlength)\n",
        "\n",
        "pad_val_enco_in_arr = tensorflow.keras.preprocessing.sequence.pad_sequences(val_enco_in_arr, maxlen=enco_len)\n",
        "pad_val_deco_in_arr = tensorflow.keras.preprocessing.sequence.pad_sequences(val_deco_in_arr, maxlen=deco_len)\n",
        "pad_val_deco_out_arr = tensorflow.keras.preprocessing.sequence.pad_sequences(val_deco_out_arr, maxlen=deco_len)\n",
        "\n",
        "pad_deco_out_arr_a = np.zeros((pad_deco_out_arr.shape[0], deco_len, tar))\n",
        "for i,j in enumerate(pad_deco_out_arr.shape[0],deco_len):\n",
        "  pad_deco_out_arr_a[i][j][pad_deco_out_arr[i][j]] = 1.0\n",
        "\n",
        "pad_val_deco_out_arr_oh = np.zeros((pad_val_deco_out_arr.shape[0], deco_len, tar))\n",
        "for i,j in enumerate(pad_val_deco_out_arr.shape[0],deco_len):\n",
        "  pad_val_deco_out_arr_a[i][j][pad_val_deco_out_arr[i][j]] = 1.0"
      ],
      "metadata": {
        "id": "5nEKu-_AMBt7"
      },
      "execution_count": null,
      "outputs": []
    },
    {
      "cell_type": "markdown",
      "source": [
        "find an embedding using the Embedding layer\n"
      ],
      "metadata": {
        "id": "e3Kb4FotQjjs"
      }
    },
    {
      "cell_type": "code",
      "source": [
        "deco_in_arr = np.argmax(deco_in_arr)\n",
        "test_deco_in_arr = np.argmax(test_deco_in_arr)\n",
        "val_deco_in_arr = np.argmax(val_deco_in_arr)\n",
        "\n",
        "enco_in_arr = np.argmax(enco_in_arr)\n",
        "test_enco_in_arr = np.argmax(test_enco_in_arr)\n",
        "val_enco_in_arr = np.argmax(val_enco_in_arr)"
      ],
      "metadata": {
        "id": "ZzZDU4nvMl_e"
      },
      "execution_count": null,
      "outputs": []
    },
    {
      "cell_type": "markdown",
      "source": [
        "# Define functions"
      ],
      "metadata": {
        "id": "FUHaj-lnfO5O"
      }
    },
    {
      "cell_type": "code",
      "source": [
        "def def_model(cell_type, num_encoder_layers, num_decoder_layers, input_embedding_size, drop_out_ratio, beam_size):\n",
        "\n",
        "    enco_input = keras.Input(shape=(None, ))\n",
        "    enco_embed = keras.layers.Embedding(num_input, embedding_size)(enco_input)\n",
        "\n",
        "    encoder_states = list()\n",
        "    for j in range(len(enc_latent_dims)):\n",
        "        if cell_type == \"SimpleRNN\":\n",
        "            encoder_outputs, state = keras.layers.SimpleRNN(enc_latent_dims[j], dropout = drop_out_ratio, return_state = True, return_sequences = True)(encoder_outputs)\n",
        "            encoder_states = [state]\n",
        "        if cell_type == \"LSTM\":\n",
        "            encoder_outputs, state_h, state_c = keras.layers.LSTM(enc_latent_dims[j], dropout = drop_out_ratio, return_state = True, return_sequences = True)(encoder_outputs)\n",
        "            encoder_states = [state_h,state_c]\n",
        "        if cell_type == \"GRU\":\n",
        "            encoder_outputs, state = keras.layers.GRU(enc_latent_dims[j], dropout = drop_out_ratio, return_state = True, return_sequences = True)(encoder_outputs)\n",
        "            encoder_states = [state]\n",
        "\n",
        "\n",
        "    ## DECODER\n",
        "    deco_input = keras.Input(shape=(None, ))\n",
        "    deco_embed = keras.layers.Embedding(num_target , embedding_size)(deco_input)\n",
        "\n",
        "\n",
        "    for j in range(len(enc_latent_dims)):\n",
        "        if cell_type == \"SimpleRNN\":\n",
        "            decoder_outputs, state = keras.layers.SimpleRNN(enc_latent_dims[j], dropout = drop_out_ratio, return_state = True, return_sequences = True)(encoder_outputs)\n",
        "            decoder_states = [state]\n",
        "        if cell_type == \"LSTM\":\n",
        "            decoder_outputs, state_h, state_c = keras.layers.LSTM(enc_latent_dims[j], dropout = drop_out_ratio, return_state = True, return_sequences = True)(encoder_outputs)\n",
        "            decoder_states = [state_h,state_c]\n",
        "        if cell_type == \"GRU\":\n",
        "            decoder_outputs, state = keras.layers.GRU(enc_latent_dims[j], dropout = drop_out_ratio, return_state = True, return_sequences = True)(encoder_outputs)\n",
        "            decoder_states = [state]\n",
        "\n",
        "    decoder_dense = keras.layers.Dense(num_target, activation=\"softmax\")\n",
        "    model = keras.Model([enco_input, deco_input], decoder_dense(decoder_outputs))\n",
        "\n",
        "    return model"
      ],
      "metadata": {
        "id": "C9V85SDlMtJw"
      },
      "execution_count": null,
      "outputs": []
    },
    {
      "cell_type": "code",
      "source": [
        "def infer_lstm(num_cell):\n",
        "    h_enco, c_enco = layer.output\n",
        "\n",
        "    enco_model = keras.Model(enco_inp, [h_enco, c_enco])\n",
        "\n",
        "    # Input to the decoder\n",
        "    deco_inputs = model.input[1]\n",
        "    deco_embed_layer  = model.layers\n",
        "\n",
        "    deco_in_state = [keras.Input(shape=(num_cells))]\n",
        "\n",
        "    deco_outputs, state_h_dec, state_c_dec = deco_lstm(deco_embed(deco_inputs))\n",
        "    deco_states = [state_h_dec, state_c_dec]\n",
        "\n",
        "    deco_model = keras.Model([deco_inputs] + deco_in_phase, [decoder_dense(decoder_output)] + deco_state)\n",
        "\n",
        "    return enco_model, deco_model\n",
        "\n",
        "\n",
        "def trans_lstm(input):\n",
        "        out-num = decoder_model.predict([target_sequence] + encoded_hidden_cell_states)\n",
        "\n",
        "        sample = np.argmax(out_num[-1, :])\n",
        "\n",
        "        tar_seq = np.zeros((batch_size))\n",
        "\n",
        "        while ch,i in (char_index):\n",
        "            deco_w[i] = deco_w[i] + char_map[i_index]\n",
        "            tar_seq[i, 0, i_index] = 1.0\n",
        "\n",
        "        tar_seq = np.argmax(tar_seq)\n",
        "    return tar_seq"
      ],
      "metadata": {
        "id": "b3EaUprQMysO"
      },
      "execution_count": null,
      "outputs": []
    },
    {
      "cell_type": "markdown",
      "source": [
        "# Train with wandb"
      ],
      "metadata": {
        "id": "GuRC2ZVoxbZV"
      }
    },
    {
      "cell_type": "code",
      "source": [
        "def train_wandb():\n",
        "    defaults = dict(\n",
        "    cell_type = \"LSTM\",\n",
        "    embedding_size = 64,\n",
        "    hidden_layer_size = 128,\n",
        "    num_encoder_layers = 1,\n",
        "    batch_size = 64,\n",
        "    num_decoder_layers = 1,\n",
        "    drop_out_ratio = 0,\n",
        "    epochs = 10,\n",
        "    optimizer = 'rmsprop',\n",
        "    )\n",
        "    config = wandb.config\n",
        "\n",
        "    hyperparameters = {\n",
        "    \"embedding_size\" : config.embedding_size,\n",
        "    \"num_encoder_layers\" : config.num_encoder_layers,\n",
        "    \"num_decoder_layers\" : config.num_decoder_layers,\n",
        "    \"hidden_layer_size\" : config.hidden_layer_size,\n",
        "    \"cell_type\" : config.cell_type,\n",
        "    \"drop_out_ratio\": config.drop_out_ratio,\n",
        "    \"in_char_size\": len(english_alpha2index),\n",
        "    \"out_char_size\": len(hindi_alpha2index),\n",
        "    \"input_len\": 25,\n",
        "    }\n",
        "    \n",
        "\n",
        "    model = def_model(num_cells, cell_type, layers, embedding_size, drop_out_ratio)\n",
        "\n",
        "    f = \"infer_model\" + str(layers)\n",
        "\n",
        "    enco_model, deco_model = globals()[f](model, cells)\n",
        "\n",
        "    val_infe_acc = np.mean(np.array(outputs) == np.array(ground_truths))\n",
        "    print(\"Validation accuracy= {} %\".format(val_infe_acc*100.0))\n",
        "    run = \"cell_{}_layer_{}_emb_{}_dp_{}_bm_{}\".format(cell, layers, embed_size, drop_out_ratio, size_of_beam)\n",
        "    print(run)\n",
        "\n",
        "    wandb.run.finish()"
      ],
      "metadata": {
        "id": "iqsRn4EeNMR8"
      },
      "execution_count": null,
      "outputs": []
    },
    {
      "cell_type": "code",
      "source": [
        "'''sweep_config = {\n",
        "    'method' : 'bayes',\n",
        "    'metric' : {\n",
        "        'name' : 'word_acc',\n",
        "        'goal' : 'maximize'\n",
        "    },\n",
        "    'parameters': {\n",
        "        'embedding_size': {\n",
        "            'values': [64,128,96]\n",
        "        },\n",
        "        'num_encoder_layers': {\n",
        "            'values': [1,2,3]\n",
        "        },\n",
        "        'num_decoder_layers': {\n",
        "            'values': [1,2,3]\n",
        "        },\n",
        "        'hidden_layer_size': {\n",
        "            'values': [64,128,256]\n",
        "        },\n",
        "        'cell_type' : {\n",
        "            'values': ['LSTM','GRU','SimpleRNN']  \n",
        "        },\n",
        "        \n",
        "        'drop_out_ratio': {\n",
        "            'values': [0,0.2,0.4]\n",
        "        },\n",
        "        'batch_size': {\n",
        "            'values': [64]\n",
        "        },\n",
        "        'epochs': {\n",
        "            'values': [25]\n",
        "        },\n",
        "        'optimizer':{\n",
        "            'values': ['adam','rmsprop']\n",
        "        }\n",
        "        \n",
        "    }\n",
        "}\n",
        "\n",
        "sweep_id = wandb.sweep(sweep_config, project=\"Assignment-3\", entity=\"kunal_patil\")\n",
        "wandb.agent(sweep_id, train_wandb)'''"
      ],
      "metadata": {
        "id": "ZaoRKP_yNfvH",
        "colab": {
          "base_uri": "https://localhost:8080/",
          "height": 122
        },
        "outputId": "90481a99-a5cc-423e-a77f-07949e33b7af"
      },
      "execution_count": null,
      "outputs": [
        {
          "output_type": "execute_result",
          "data": {
            "text/plain": [
              "'# Sweep configuration\\nsweep_config = {\\n  \"name\": \"Assignment3_new\",\\n  \"metric\": {\\n      \"name\":\"val_accuracy\",\\n      \"goal\": \"maximize\"\\n  },\\n  \"method\": \"random\",\\n  \"parameters\": {\\n        \"cell_type\": {\\n            \"values\": [\"LSTM\", \"RNN\", \"GRU\"]\\n        },\\n        \"num_cells\": {\\n            \"values\": [16, 32, 64]\\n        },\\n        \"num_layers\": {\\n            \"values\": [1, 2, 3]\\n        },\\n        \"input_embedding_size\": {\\n            \"values\": [16, 32, 64]\\n        },\\n        \"dropout_fraction\": {\\n            \"values\": [0]\\n        },\\n        \"beam_size\": {\\n            \"values\": [1, 3]\\n        }\\n    }\\n}\\n\\n# Generates a sweep id\\nsweep_id = wandb.sweep(sweep_config, project=\"Assignment-3\", entity=\"kunal_patil\")\\nprint(f\"Sweep ID = {sweep_id}\")\\nwandb.agent(sweep_id, train_with_wandb, count=100)'"
            ],
            "application/vnd.google.colaboratory.intrinsic+json": {
              "type": "string"
            }
          },
          "metadata": {},
          "execution_count": 20
        }
      ]
    },
    {
      "cell_type": "markdown",
      "source": [
        "# Training the Best Model"
      ],
      "metadata": {
        "id": "g0q5Y8wEci0a"
      }
    },
    {
      "cell_type": "code",
      "source": [
        "def train(num_cells, cell_type, layers, embed_size, drop_out_ratio):\n",
        "    model = def_model(num_cells, cell_type, layers, embed_size, drop_out_ratio)\n",
        "\n",
        "    history = model.fit(\n",
        "            [enco_in_arr, deco_in_arr],\n",
        "            deco_out_arr,\n",
        "            batch_size = 64,\n",
        "            epochs = 20,\n",
        "            verbose = 2\n",
        "            )\n",
        "\n",
        "    model.save(\"best_model.h5\")\n",
        "\n",
        "    f = \"infer_model\" + str(layers)\n",
        "\n",
        "    enco_model, deco_model = globals()[f](model, cells)\n",
        "\n",
        "    val_infe_acc = np.mean(np.array(outputs) == np.array(ground_truths))\n",
        "\n",
        "    \n",
        "    plt.plot(history.history[\"val_accuracy\"])\n",
        "    plt.plot(history.history[\"accuracy\"])\n",
        "    plt.title(\"Accuracy vs epoch\")\n",
        "    plt.show()\n",
        "\n",
        "    plt.plot(history.history[\"val_loss\"])\n",
        "    plt.plot(history.history[\"loss\"])\n",
        "    plt.title(\"Loss vs epoch\")\n",
        "    plt.show()\n",
        "\n",
        "    return model"
      ],
      "metadata": {
        "id": "Pqao7K1scpGV"
      },
      "execution_count": null,
      "outputs": []
    },
    {
      "cell_type": "markdown",
      "source": [
        "# Training with the Best Hyperparameters"
      ],
      "metadata": {
        "id": "m7jGzV1ecxxD"
      }
    },
    {
      "cell_type": "code",
      "source": [
        "num_cells = 256\n",
        "cell_type = \"GRU\"\n",
        "num_layers = 2\n",
        "embedding_size = 32\n",
        "drop_out_ratio = 0.1\n",
        "num_encoder_layers = num_layers\n",
        "num_decoder_layers = num_layers\n",
        "\n",
        "model, history = train(num_cells, cell_type, layers, embedding_size, drop_out_ratio)"
      ],
      "metadata": {
        "colab": {
          "base_uri": "https://localhost:8080/",
          "height": 1000
        },
        "id": "fB5s8CHncuw7",
        "outputId": "456e9a95-541d-4921-844b-7776db4b020e"
      },
      "execution_count": null,
      "outputs": [
        {
          "output_type": "stream",
          "name": "stdout",
          "text": [
            "WARNING:tensorflow:Layer EncoderLayer1 will not use cuDNN kernels since it doesn't meet the criteria. It will use a generic GPU kernel as fallback when running on GPU.\n",
            "WARNING:tensorflow:Layer EncoderLayer2 will not use cuDNN kernels since it doesn't meet the criteria. It will use a generic GPU kernel as fallback when running on GPU.\n",
            "WARNING:tensorflow:Layer DecoderLayer1 will not use cuDNN kernels since it doesn't meet the criteria. It will use a generic GPU kernel as fallback when running on GPU.\n",
            "WARNING:tensorflow:Layer DecoderLayer2 will not use cuDNN kernels since it doesn't meet the criteria. It will use a generic GPU kernel as fallback when running on GPU.\n",
            "Model: \"model\"\n",
            "__________________________________________________________________________________________________\n",
            " Layer (type)                   Output Shape         Param #     Connected to                     \n",
            "==================================================================================================\n",
            " EncoderInput (InputLayer)      [(None, None)]       0           []                               \n",
            "                                                                                                  \n",
            " DecoderInput (InputLayer)      [(None, None)]       0           []                               \n",
            "                                                                                                  \n",
            " EncoderInputEmbedding (Embeddi  (None, None, 32)    864         ['EncoderInput[0][0]']           \n",
            " ng)                                                                                              \n",
            "                                                                                                  \n",
            " DecoderInputEmbedding (Embeddi  (None, None, 64)    4160        ['DecoderInput[0][0]']           \n",
            " ng)                                                                                              \n",
            "                                                                                                  \n",
            " EncoderLayer1 (GRU)            [(None, None, 256),  222720      ['EncoderInputEmbedding[0][0]']  \n",
            "                                 (None, 256)]                                                     \n",
            "                                                                                                  \n",
            " DecoderLayer1 (GRU)            [(None, None, 256),  247296      ['DecoderInputEmbedding[0][0]',  \n",
            "                                 (None, 256)]                     'EncoderLayer1[0][1]']          \n",
            "                                                                                                  \n",
            " EncoderLayer2 (GRU)            [(None, 256),        394752      ['EncoderLayer1[0][0]']          \n",
            "                                 (None, 256)]                                                     \n",
            "                                                                                                  \n",
            " DecoderLayer2 (GRU)            [(None, None, 256),  394752      ['DecoderLayer1[0][0]',          \n",
            "                                 (None, 256)]                     'EncoderLayer2[0][1]']          \n",
            "                                                                                                  \n",
            " DecoderDenseLayer (Dense)      (None, None, 65)     16705       ['DecoderLayer2[0][0]']          \n",
            "                                                                                                  \n",
            "==================================================================================================\n",
            "Total params: 1,281,249\n",
            "Trainable params: 1,281,249\n",
            "Non-trainable params: 0\n",
            "__________________________________________________________________________________________________\n",
            "None\n",
            "Epoch 1/20\n",
            "647/647 - 409s - loss: 0.8211 - accuracy: 0.3255 - val_loss: 0.5512 - val_accuracy: 0.4667 - 409s/epoch - 633ms/step\n",
            "Epoch 2/20\n",
            "647/647 - 336s - loss: 0.4446 - accuracy: 0.5556 - val_loss: 0.3117 - val_accuracy: 0.6330 - 336s/epoch - 519ms/step\n",
            "Epoch 3/20\n",
            "647/647 - 328s - loss: 0.2740 - accuracy: 0.6728 - val_loss: 0.2589 - val_accuracy: 0.6673 - 328s/epoch - 507ms/step\n",
            "Epoch 4/20\n",
            "647/647 - 328s - loss: 0.2081 - accuracy: 0.7196 - val_loss: 0.1984 - val_accuracy: 0.7107 - 328s/epoch - 506ms/step\n",
            "Epoch 5/20\n",
            "647/647 - 328s - loss: 0.1753 - accuracy: 0.7434 - val_loss: 0.1765 - val_accuracy: 0.7302 - 328s/epoch - 507ms/step\n",
            "Epoch 6/20\n",
            "647/647 - 326s - loss: 0.1504 - accuracy: 0.7617 - val_loss: 0.1667 - val_accuracy: 0.7387 - 326s/epoch - 504ms/step\n",
            "Epoch 7/20\n",
            "647/647 - 332s - loss: 0.1350 - accuracy: 0.7735 - val_loss: 0.1657 - val_accuracy: 0.7411 - 332s/epoch - 513ms/step\n",
            "Epoch 8/20\n",
            "647/647 - 329s - loss: 0.1266 - accuracy: 0.7794 - val_loss: 0.1596 - val_accuracy: 0.7439 - 329s/epoch - 509ms/step\n",
            "Epoch 9/20\n",
            "647/647 - 327s - loss: 0.1118 - accuracy: 0.7913 - val_loss: 0.1582 - val_accuracy: 0.7465 - 327s/epoch - 506ms/step\n",
            "Epoch 10/20\n",
            "647/647 - 328s - loss: 0.1034 - accuracy: 0.7971 - val_loss: 0.1635 - val_accuracy: 0.7453 - 328s/epoch - 507ms/step\n",
            "Epoch 11/20\n",
            "647/647 - 330s - loss: 0.0961 - accuracy: 0.8031 - val_loss: 0.1580 - val_accuracy: 0.7513 - 330s/epoch - 510ms/step\n",
            "Epoch 12/20\n",
            "647/647 - 331s - loss: 0.0910 - accuracy: 0.8071 - val_loss: 0.1595 - val_accuracy: 0.7502 - 331s/epoch - 511ms/step\n",
            "Epoch 13/20\n",
            "647/647 - 333s - loss: 0.0850 - accuracy: 0.8117 - val_loss: 0.1608 - val_accuracy: 0.7506 - 333s/epoch - 515ms/step\n",
            "Epoch 14/20\n",
            "647/647 - 334s - loss: 0.0792 - accuracy: 0.8161 - val_loss: 0.1608 - val_accuracy: 0.7531 - 334s/epoch - 516ms/step\n",
            "Epoch 15/20\n",
            "647/647 - 329s - loss: 0.0763 - accuracy: 0.8179 - val_loss: 0.1626 - val_accuracy: 0.7509 - 329s/epoch - 508ms/step\n",
            "Epoch 16/20\n",
            "647/647 - 327s - loss: 0.0710 - accuracy: 0.8221 - val_loss: 0.1661 - val_accuracy: 0.7528 - 327s/epoch - 506ms/step\n",
            "Epoch 17/20\n",
            "647/647 - 329s - loss: 0.0686 - accuracy: 0.8238 - val_loss: 0.1684 - val_accuracy: 0.7545 - 329s/epoch - 509ms/step\n",
            "Epoch 18/20\n",
            "647/647 - 327s - loss: 0.0646 - accuracy: 0.8266 - val_loss: 0.1694 - val_accuracy: 0.7518 - 327s/epoch - 505ms/step\n",
            "Epoch 19/20\n",
            "647/647 - 331s - loss: 0.0617 - accuracy: 0.8291 - val_loss: 0.1719 - val_accuracy: 0.7520 - 331s/epoch - 512ms/step\n",
            "Epoch 20/20\n",
            "647/647 - 328s - loss: 0.0594 - accuracy: 0.8303 - val_loss: 0.1746 - val_accuracy: 0.7510 - 328s/epoch - 508ms/step\n",
            "Training accuracy based on whole string matching = 85.1614463659451 %\n",
            "Validation accuracy based on whole string matching = 36.35732469335802 %\n"
          ]
        },
        {
          "output_type": "display_data",
          "data": {
            "text/plain": [
              "<Figure size 432x288 with 1 Axes>"
            ],
            "image/png": "[encoded data removed]"
          },
          "metadata": {
            "needs_background": "light"
          }
        },
        {
          "output_type": "display_data",
          "data": {
            "text/plain": [
              "<Figure size 432x288 with 1 Axes>"
            ],
            "image/png": "[encoded data removed]"
          },
          "metadata": {
            "needs_background": "light"
          }
        }
      ]
    },
    {
      "cell_type": "markdown",
      "source": [
        "Load the best model"
      ],
      "metadata": {
        "id": "InwcNR-xdDhU"
      }
    },
    {
      "cell_type": "code",
      "source": [
        "keras.utils.plot_model(model)"
      ],
      "metadata": {
        "colab": {
          "base_uri": "https://localhost:8080/",
          "height": 564
        },
        "id": "M4pmqbskdGeq",
        "outputId": "8f221ba2-7646-41e6-fc91-ddbe780df441"
      },
      "execution_count": null,
      "outputs": [
        {
          "output_type": "execute_result",
          "data": {
            "text/plain": [
              "<IPython.core.display.Image object>"
            ],
            "image/png": "[encoded data removed]"
          },
          "metadata": {},
          "execution_count": 24
        }
      ]
    },
    {
      "cell_type": "code",
      "source": [
        "train = model.evaluate([enco_in_arr, deco_in_arr], deco_out_arr)\n",
        "val = model.evaluate([val_enco_in_arr, val_deco_in_arr], val_deco_out_arr)\n",
        "test = model.evaluate([test_enco_in_arr, test_deco_in_arr], test_deco_out_arr)\n",
        "\n",
        "train=train*100\n",
        "test=test*100\n",
        "val=val*100\n",
        "\n",
        "print(\"Character-wise training accuracy = {} %\".format(train))\n",
        "print(\"Character-wise validation accuracy = {} %\".format(val))\n",
        "print(\"Character-wise test accuracy = {} %\".format(test))"
      ],
      "metadata": {
        "colab": {
          "base_uri": "https://localhost:8080/"
        },
        "id": "CavpldX2dJV6",
        "outputId": "9c665948-c2c2-4da5-fb63-09e9d70603d3"
      },
      "execution_count": null,
      "outputs": [
        {
          "output_type": "stream",
          "name": "stdout",
          "text": [
            "1293/1293 [==============================] - 55s 42ms/step - loss: 0.0279 - accuracy: 0.8603\n",
            "136/136 [==============================] - 6s 41ms/step - loss: 0.1746 - accuracy: 0.7510\n",
            "139/139 [==============================] - 6s 42ms/step - loss: 0.1742 - accuracy: 0.7483\n",
            "Character-wise training accuracy = 86.0349178314209 %\n",
            "Character-wise validation accuracy = 75.10246634483337 %\n",
            "Character-wise test accuracy = 74.83358383178711 %\n"
          ]
        }
      ]
    },
    {
      "cell_type": "code",
      "source": [
        "outputs = []\n",
        "\n",
        "if not os.path.exists('Test_Prediction'):\n",
        "  os.mkdir('Test_Prediction')\n",
        "\n",
        "with open('Test_Prediction.npy', 'wb') as f:\n",
        "  np.save(f)\n",
        "df_test.to_csv(\"Test_Prediction.csv\", index=False)\n",
        " \n",
        "print(\"Test set infer accuracy based on whole string matching = {} %\".format((np.mean(np.array(outputs) == np.array(ground_truths)))*100.0))"
      ],
      "metadata": {
        "colab": {
          "base_uri": "https://localhost:8080/"
        },
        "id": "WRpE1C0YdVt5",
        "outputId": "409af0b0-3d07-4f22-876c-d68e5dad2fcb"
      },
      "execution_count": null,
      "outputs": [
        {
          "output_type": "stream",
          "name": "stdout",
          "text": [
            "Test set Inference accuracy based on whole string matching = 36.71769473210266 %\n"
          ]
        }
      ]
    },
    {
      "cell_type": "code",
      "source": [
        "df_test = pd.read_csv(\"Test_Prediction.csv\")\n",
        "df_test.head(25)"
      ],
      "metadata": {
        "colab": {
          "base_uri": "https://localhost:8080/",
          "height": 833
        },
        "id": "4dwI1RcydY3K",
        "outputId": "6a81b11c-7bc5-43fb-b461-ba30a3cd19be"
      },
      "execution_count": null,
      "outputs": [
        {
          "output_type": "execute_result",
          "data": {
            "text/plain": [
              "            Input Ground Truth  Model output\n",
              "2566        fulay        फुलाए         फूलाय\n",
              "3501       lakshy       लक्ष्य        लक्ष्य\n",
              "3766        weeks        वीक्स         वीक्स\n",
              "4396     halchaal       हालचाल          हलचल\n",
              "2386      packard       पैकर्ड       पैकार्ड\n",
              "270      aagaashe        आगाशे        आगाशाए\n",
              "3628        vansh          वंश          वांश\n",
              "1568          dit          डिट           दीत\n",
              "3155      muflisi      मुफलिसी       मुफलीसी\n",
              "1425        jaine         जैने         जाइने\n",
              "823       kritika       कृतिका        कृतिका\n",
              "237       asmanye      असमान्य      अस्मान्य\n",
              "1204      chhupta        छुपता        छुप्टा\n",
              "2704         bhav         बहाव           भाव\n",
              "1570   diphtheria   डिप्थीरिया  दीप्थेरीरिया\n",
              "3304         rais          रईस           रैस\n",
              "783       kaldvel     काल्डवेल      काल्डवेल\n",
              "92    anaavashyak     अनावश्यक     अनावाश्यक\n",
              "297      aabantit       आबंटित        आबंतित\n",
              "3336       raakhe         राखे           रखे\n",
              "3175        mular         मूलर          मूलर\n",
              "2020        nadep        नाडेप         नादेप\n",
              "1823      divyata      दिव्यता       दिव्यता\n",
              "2989     manchiya        मंचीय       मांछिया\n",
              "205      avarnata      अवर्णता       अवर्णता"
            ],
            "text/html": [
              "\n",
              "  <div id=\"df-53a63a7a-11c6-4aa5-aa61-dc64ab397f8e\">\n",
              "    <div class=\"colab-df-container\">\n",
              "      <div>\n",
              "<style scoped>\n",
              "    .dataframe tbody tr th:only-of-type {\n",
              "        vertical-align: middle;\n",
              "    }\n",
              "\n",
              "    .dataframe tbody tr th {\n",
              "        vertical-align: top;\n",
              "    }\n",
              "\n",
              "    .dataframe thead th {\n",
              "        text-align: right;\n",
              "    }\n",
              "</style>\n",
              "<table border=\"1\" class=\"dataframe\">\n",
              "  <thead>\n",
              "    <tr style=\"text-align: right;\">\n",
              "      <th></th>\n",
              "      <th>Input</th>\n",
              "      <th>Ground Truth</th>\n",
              "      <th>Model output</th>\n",
              "    </tr>\n",
              "  </thead>\n",
              "  <tbody>\n",
              "    <tr>\n",
              "      <th>2566</th>\n",
              "      <td>fulay</td>\n",
              "      <td>फुलाए</td>\n",
              "      <td>फूलाय</td>\n",
              "    </tr>\n",
              "    <tr>\n",
              "      <th>3501</th>\n",
              "      <td>lakshy</td>\n",
              "      <td>लक्ष्य</td>\n",
              "      <td>लक्ष्य</td>\n",
              "    </tr>\n",
              "    <tr>\n",
              "      <th>3766</th>\n",
              "      <td>weeks</td>\n",
              "      <td>वीक्स</td>\n",
              "      <td>वीक्स</td>\n",
              "    </tr>\n",
              "    <tr>\n",
              "      <th>4396</th>\n",
              "      <td>halchaal</td>\n",
              "      <td>हालचाल</td>\n",
              "      <td>हलचल</td>\n",
              "    </tr>\n",
              "    <tr>\n",
              "      <th>2386</th>\n",
              "      <td>packard</td>\n",
              "      <td>पैकर्ड</td>\n",
              "      <td>पैकार्ड</td>\n",
              "    </tr>\n",
              "    <tr>\n",
              "      <th>270</th>\n",
              "      <td>aagaashe</td>\n",
              "      <td>आगाशे</td>\n",
              "      <td>आगाशाए</td>\n",
              "    </tr>\n",
              "    <tr>\n",
              "      <th>3628</th>\n",
              "      <td>vansh</td>\n",
              "      <td>वंश</td>\n",
              "      <td>वांश</td>\n",
              "    </tr>\n",
              "    <tr>\n",
              "      <th>1568</th>\n",
              "      <td>dit</td>\n",
              "      <td>डिट</td>\n",
              "      <td>दीत</td>\n",
              "    </tr>\n",
              "    <tr>\n",
              "      <th>3155</th>\n",
              "      <td>muflisi</td>\n",
              "      <td>मुफलिसी</td>\n",
              "      <td>मुफलीसी</td>\n",
              "    </tr>\n",
              "    <tr>\n",
              "      <th>1425</th>\n",
              "      <td>jaine</td>\n",
              "      <td>जैने</td>\n",
              "      <td>जाइने</td>\n",
              "    </tr>\n",
              "    <tr>\n",
              "      <th>823</th>\n",
              "      <td>kritika</td>\n",
              "      <td>कृतिका</td>\n",
              "      <td>कृतिका</td>\n",
              "    </tr>\n",
              "    <tr>\n",
              "      <th>237</th>\n",
              "      <td>asmanye</td>\n",
              "      <td>असमान्य</td>\n",
              "      <td>अस्मान्य</td>\n",
              "    </tr>\n",
              "    <tr>\n",
              "      <th>1204</th>\n",
              "      <td>chhupta</td>\n",
              "      <td>छुपता</td>\n",
              "      <td>छुप्टा</td>\n",
              "    </tr>\n",
              "    <tr>\n",
              "      <th>2704</th>\n",
              "      <td>bhav</td>\n",
              "      <td>बहाव</td>\n",
              "      <td>भाव</td>\n",
              "    </tr>\n",
              "    <tr>\n",
              "      <th>1570</th>\n",
              "      <td>diphtheria</td>\n",
              "      <td>डिप्थीरिया</td>\n",
              "      <td>दीप्थेरीरिया</td>\n",
              "    </tr>\n",
              "    <tr>\n",
              "      <th>3304</th>\n",
              "      <td>rais</td>\n",
              "      <td>रईस</td>\n",
              "      <td>रैस</td>\n",
              "    </tr>\n",
              "    <tr>\n",
              "      <th>783</th>\n",
              "      <td>kaldvel</td>\n",
              "      <td>काल्डवेल</td>\n",
              "      <td>काल्डवेल</td>\n",
              "    </tr>\n",
              "    <tr>\n",
              "      <th>92</th>\n",
              "      <td>anaavashyak</td>\n",
              "      <td>अनावश्यक</td>\n",
              "      <td>अनावाश्यक</td>\n",
              "    </tr>\n",
              "    <tr>\n",
              "      <th>297</th>\n",
              "      <td>aabantit</td>\n",
              "      <td>आबंटित</td>\n",
              "      <td>आबंतित</td>\n",
              "    </tr>\n",
              "    <tr>\n",
              "      <th>3336</th>\n",
              "      <td>raakhe</td>\n",
              "      <td>राखे</td>\n",
              "      <td>रखे</td>\n",
              "    </tr>\n",
              "    <tr>\n",
              "      <th>3175</th>\n",
              "      <td>mular</td>\n",
              "      <td>मूलर</td>\n",
              "      <td>मूलर</td>\n",
              "    </tr>\n",
              "    <tr>\n",
              "      <th>2020</th>\n",
              "      <td>nadep</td>\n",
              "      <td>नाडेप</td>\n",
              "      <td>नादेप</td>\n",
              "    </tr>\n",
              "    <tr>\n",
              "      <th>1823</th>\n",
              "      <td>divyata</td>\n",
              "      <td>दिव्यता</td>\n",
              "      <td>दिव्यता</td>\n",
              "    </tr>\n",
              "    <tr>\n",
              "      <th>2989</th>\n",
              "      <td>manchiya</td>\n",
              "      <td>मंचीय</td>\n",
              "      <td>मांछिया</td>\n",
              "    </tr>\n",
              "    <tr>\n",
              "      <th>205</th>\n",
              "      <td>avarnata</td>\n",
              "      <td>अवर्णता</td>\n",
              "      <td>अवर्णता</td>\n",
              "    </tr>\n",
              "  </tbody>\n",
              "</table>\n",
              "</div>\n",
              "      <button class=\"colab-df-convert\" onclick=\"convertToInteractive('df-53a63a7a-11c6-4aa5-aa61-dc64ab397f8e')\"\n",
              "              title=\"Convert this dataframe to an interactive table.\"\n",
              "              style=\"display:none;\">\n",
              "        \n",
              "  <svg xmlns=\"http://www.w3.org/2000/svg\" height=\"24px\"viewBox=\"0 0 24 24\"\n",
              "       width=\"24px\">\n",
              "    <path d=\"M0 0h24v24H0V0z\" fill=\"none\"/>\n",
              "    <path d=\"M18.56 5.44l.94 2.06.94-2.06 2.06-.94-2.06-.94-.94-2.06-.94 2.06-2.06.94zm-11 1L8.5 8.5l.94-2.06 2.06-.94-2.06-.94L8.5 2.5l-.94 2.06-2.06.94zm10 10l.94 2.06.94-2.06 2.06-.94-2.06-.94-.94-2.06-.94 2.06-2.06.94z\"/><path d=\"M17.41 7.96l-1.37-1.37c-.4-.4-.92-.59-1.43-.59-.52 0-1.04.2-1.43.59L10.3 9.45l-7.72 7.72c-.78.78-.78 2.05 0 2.83L4 21.41c.39.39.9.59 1.41.59.51 0 1.02-.2 1.41-.59l7.78-7.78 2.81-2.81c.8-.78.8-2.07 0-2.86zM5.41 20L4 18.59l7.72-7.72 1.47 1.35L5.41 20z\"/>\n",
              "  </svg>\n",
              "      </button>\n",
              "      \n",
              "  <style>\n",
              "    .colab-df-container {\n",
              "      display:flex;\n",
              "      flex-wrap:wrap;\n",
              "      gap: 12px;\n",
              "    }\n",
              "\n",
              "    .colab-df-convert {\n",
              "      background-color: #E8F0FE;\n",
              "      border: none;\n",
              "      border-radius: 50%;\n",
              "      cursor: pointer;\n",
              "      display: none;\n",
              "      fill: #1967D2;\n",
              "      height: 32px;\n",
              "      padding: 0 0 0 0;\n",
              "      width: 32px;\n",
              "    }\n",
              "\n",
              "    .colab-df-convert:hover {\n",
              "      background-color: #E2EBFA;\n",
              "      box-shadow: 0px 1px 2px rgba(60, 64, 67, 0.3), 0px 1px 3px 1px rgba(60, 64, 67, 0.15);\n",
              "      fill: #174EA6;\n",
              "    }\n",
              "\n",
              "    [theme=dark] .colab-df-convert {\n",
              "      background-color: #3B4455;\n",
              "      fill: #D2E3FC;\n",
              "    }\n",
              "\n",
              "    [theme=dark] .colab-df-convert:hover {\n",
              "      background-color: #434B5C;\n",
              "      box-shadow: 0px 1px 3px 1px rgba(0, 0, 0, 0.15);\n",
              "      filter: drop-shadow(0px 1px 2px rgba(0, 0, 0, 0.3));\n",
              "      fill: #FFFFFF;\n",
              "    }\n",
              "  </style>\n",
              "\n",
              "      <script>\n",
              "        const buttonEl =\n",
              "          document.querySelector('#df-53a63a7a-11c6-4aa5-aa61-dc64ab397f8e button.colab-df-convert');\n",
              "        buttonEl.style.display =\n",
              "          google.colab.kernel.accessAllowed ? 'block' : 'none';\n",
              "\n",
              "        async function convertToInteractive(key) {\n",
              "          const element = document.querySelector('#df-53a63a7a-11c6-4aa5-aa61-dc64ab397f8e');\n",
              "          const dataTable =\n",
              "            await google.colab.kernel.invokeFunction('convertToInteractive',\n",
              "                                                     [key], {});\n",
              "          if (!dataTable) return;\n",
              "\n",
              "          const docLinkHtml = 'Like what you see? Visit the ' +\n",
              "            '<a target=\"_blank\" href=https://colab.research.google.com/notebooks/data_table.ipynb>data table notebook</a>'\n",
              "            + ' to learn more about interactive tables.';\n",
              "          element.innerHTML = '';\n",
              "          dataTable['output_type'] = 'display_data';\n",
              "          await google.colab.output.renderOutput(dataTable, element);\n",
              "          const docLink = document.createElement('div');\n",
              "          docLink.innerHTML = docLinkHtml;\n",
              "          element.appendChild(docLink);\n",
              "        }\n",
              "      </script>\n",
              "    </div>\n",
              "  </div>\n",
              "  "
            ]
          },
          "metadata": {},
          "execution_count": 29
        }
      ]
    },
    {
      "cell_type": "code",
      "source": [
        ""
      ],
      "metadata": {
        "id": "blXm4zcTdb3S"
      },
      "execution_count": null,
      "outputs": []
    }
  ]
}